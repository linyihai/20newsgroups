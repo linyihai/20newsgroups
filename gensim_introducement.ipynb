{
 "cells": [
  {
   "cell_type": "code",
   "execution_count": 1,
   "metadata": {},
   "outputs": [],
   "source": [
    "# http://blog.csdn.net/questionfish/article/details/46725475\n",
    "import logging  \n",
    "logging.basicConfig(format='%(asctime)s : %(levelname)s : %(message)s', level=logging.INFO) "
   ]
  },
  {
   "cell_type": "code",
   "execution_count": 2,
   "metadata": {},
   "outputs": [
    {
     "name": "stderr",
     "output_type": "stream",
     "text": [
      "C:\\Users\\Administrator\\AppData\\Local\\conda\\conda\\envs\\python36\\lib\\site-packages\\gensim\\utils.py:860: UserWarning: detected Windows; aliasing chunkize to chunkize_serial\n",
      "  warnings.warn(\"detected Windows; aliasing chunkize to chunkize_serial\")\n",
      "2018-02-17 12:44:16,893 : INFO : 'pattern' package not found; tag filters are not available for English\n"
     ]
    }
   ],
   "source": [
    "from gensim import corpora, models, similarities  \n",
    "corpus = [[(0, 1.0), (1, 1.0), (2, 1.0)],  \n",
    "[(2, 1.0), (3, 1.0), (4, 1.0), (5, 1.0), (6, 1.0), (8, 1.0)],  \n",
    "[(1, 1.0), (3, 1.0), (4, 1.0), (7, 1.0)],  \n",
    "[(0, 1.0), (4, 2.0), (7, 1.0)],  \n",
    "[(3, 1.0), (5, 1.0), (6, 1.0)],  \n",
    "[(9, 1.0)],  [(9, 1.0), (10, 1.0)],  [(9, 1.0), (10, 1.0), (11, 1.0)],  [(8, 1.0), (10, 1.0), (11, 1.0)]] "
   ]
  },
  {
   "cell_type": "code",
   "execution_count": 3,
   "metadata": {},
   "outputs": [
    {
     "name": "stderr",
     "output_type": "stream",
     "text": [
      "2018-02-17 16:17:36,305 : INFO : collecting document frequencies\n",
      "2018-02-17 16:17:36,307 : INFO : PROGRESS: processing document #0\n",
      "2018-02-17 16:17:36,309 : INFO : calculating IDF weights for 9 documents and 11 features (28 matrix non-zeros)\n"
     ]
    }
   ],
   "source": [
    "tfidf = models.TfidfModel(corpus)  "
   ]
  },
  {
   "cell_type": "code",
   "execution_count": 4,
   "metadata": {},
   "outputs": [
    {
     "name": "stdout",
     "output_type": "stream",
     "text": [
      "[(0, 0.8075244024440723), (4, 0.5898341626740045)]\n"
     ]
    }
   ],
   "source": [
    "vec = [(0, 1), (4, 1)]  \n",
    "print(tfidf[vec])   "
   ]
  },
  {
   "cell_type": "code",
   "execution_count": 13,
   "metadata": {},
   "outputs": [
    {
     "name": "stderr",
     "output_type": "stream",
     "text": [
      "2018-02-18 00:59:48,047 : INFO : creating sparse index\n",
      "2018-02-18 00:59:48,051 : INFO : creating sparse matrix from corpus\n",
      "2018-02-18 00:59:48,057 : INFO : PROGRESS: at document #0\n",
      "2018-02-18 00:59:48,060 : INFO : created <9x12 sparse matrix of type '<class 'numpy.float32'>'\n",
      "\twith 28 stored elements in Compressed Sparse Row format>\n"
     ]
    }
   ],
   "source": [
    "# 为了将整个语料库通过Tf-idf转化并索引，以便相似度查询，需要做如下准备\n",
    "index = similarities.SparseMatrixSimilarity(tfidf[corpus], num_features=12)  "
   ]
  },
  {
   "cell_type": "code",
   "execution_count": 10,
   "metadata": {},
   "outputs": [
    {
     "name": "stdout",
     "output_type": "stream",
     "text": [
      "[(0, 0.4662244), (1, 0.19139354), (2, 0.24600551), (3, 0.82094586), (4, 0.0), (5, 0.0), (6, 0.0), (7, 0.0), (8, 0.0)]\n"
     ]
    }
   ],
   "source": [
    "sims = index[tfidf[vec]]\n",
    "print(list(enumerate(sims)))"
   ]
  },
  {
   "cell_type": "code",
   "execution_count": 14,
   "metadata": {},
   "outputs": [],
   "source": [
    "# 语料库与向量空间\n",
    "from gensim import corpora, models, similarities  \n",
    "  \n",
    "documents = [\"Human machine interface for lab abc computer applications\",  \n",
    "              \"A survey of user opinion of computer system response time\",  \n",
    "              \"The EPS user interface management system\",  \n",
    "              \"System and human system engineering testing of EPS\",  \n",
    "              \"Relation of user perceived response time to error measurement\",  \n",
    "              \"The generation of random binary unordered trees\",  \n",
    "              \"The intersection graph of paths in trees\",  \n",
    "              \"Graph minors IV Widths of trees and well quasi ordering\",  \n",
    "              \"Graph minors A survey\"]  "
   ]
  },
  {
   "cell_type": "code",
   "execution_count": null,
   "metadata": {},
   "outputs": [],
   "source": []
  }
 ],
 "metadata": {
  "kernelspec": {
   "display_name": "Python 3",
   "language": "python",
   "name": "python3"
  },
  "language_info": {
   "codemirror_mode": {
    "name": "ipython",
    "version": 3
   },
   "file_extension": ".py",
   "mimetype": "text/x-python",
   "name": "python",
   "nbconvert_exporter": "python",
   "pygments_lexer": "ipython3",
   "version": "3.6.3"
  }
 },
 "nbformat": 4,
 "nbformat_minor": 2
}
