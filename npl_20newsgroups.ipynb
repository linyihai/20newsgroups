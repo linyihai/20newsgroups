{
 "cells": [
  {
   "cell_type": "code",
   "execution_count": 30,
   "metadata": {},
   "outputs": [],
   "source": [
    "import time\n",
    "import pandas as pd\n",
    "import numpy as np\n",
    "import matplotlib.pyplot as plt\n",
    "import tensorflow as tf\n",
    "import gensim, scipy, nltk\n",
    "from collections import Counter\n",
    "from sklearn.datasets import fetch_20newsgroups\n",
    "# nltk.download('stopwords')\n",
    "%matplotlib inline\n",
    "plt.rcParams['font.sans-serif']=['SimHei'] #用来正常显示中文标签\n",
    "plt.rcParams['axes.unicode_minus']=False #用来正常显示负号\n",
    "#有中文出现的情况，需要u'内容'\n"
   ]
  },
  {
   "cell_type": "markdown",
   "metadata": {},
   "source": [
    "## 数据集探索"
   ]
  },
  {
   "cell_type": "code",
   "execution_count": 2,
   "metadata": {},
   "outputs": [
    {
     "name": "stdout",
     "output_type": "stream",
     "text": [
      "From: lerxst@wam.umd.edu (where's my thing)\n",
      "Subject: WHAT car is this!?\n",
      "Nntp-Posting-Host: rac3.wam.umd.edu\n",
      "Organization: University of Maryland, College Park\n",
      "Lines: 15\n",
      "\n",
      " I was wondering if anyone out there could enlighten me on this car I saw\n",
      "the other day. It was a 2-door sports car, looked to be from the late 60s/\n",
      "early 70s. It was called a Bricklin. The doors were really small. In addition,\n",
      "the front bumper was separate from the rest of the body. This is \n",
      "all I know. If anyone can tellme a model name, engine specs, years\n",
      "of production, where this car is made, history, or whatever info you\n",
      "have on this funky looking car, please e-mail.\n",
      "\n",
      "Thanks,\n",
      "- IL\n",
      "   ---- brought to you by your neighborhood Lerxst ----\n",
      "\n",
      "\n",
      "\n",
      "\n",
      "\n",
      "From: guykuo@carson.u.washington.edu (Guy Kuo)\n",
      "Subject: SI Clock Poll - Final Call\n",
      "Summary: Final call for SI clock reports\n",
      "Keywords: SI,acceleration,clock,upgrade\n",
      "Article-I.D.: shelley.1qvfo9INNc3s\n",
      "Organization: University of Washington\n",
      "Lines: 11\n",
      "NNTP-Posting-Host: carson.u.washington.edu\n",
      "\n",
      "A fair number of brave souls who upgraded their SI clock oscillator have\n",
      "shared their experiences for this poll. Please send a brief message detailing\n",
      "your experiences with the procedure. Top speed attained, CPU rated speed,\n",
      "add on cards and adapters, heat sinks, hour of usage per day, floppy disk\n",
      "functionality with 800 and 1.4 m floppies are especially requested.\n",
      "\n",
      "I will be summarizing in the next two days, so please add to the network\n",
      "knowledge base if you have done the clock upgrade and haven't answered this\n",
      "poll. Thanks.\n",
      "\n",
      "Guy Kuo <guykuo@u.washington.edu>\n",
      "\n",
      "From: twillis@ec.ecn.purdue.edu (Thomas E Willis)\n",
      "Subject: PB questions...\n",
      "Organization: Purdue University Engineering Computer Network\n",
      "Distribution: usa\n",
      "Lines: 36\n",
      "\n",
      "well folks, my mac plus finally gave up the ghost this weekend after\n",
      "starting life as a 512k way back in 1985.  sooo, i'm in the market for a\n",
      "new machine a bit sooner than i intended to be...\n",
      "\n",
      "i'm looking into picking up a powerbook 160 or maybe 180 and have a bunch\n",
      "of questions that (hopefully) somebody can answer:\n",
      "\n",
      "* does anybody know any dirt on when the next round of powerbook\n",
      "introductions are expected?  i'd heard the 185c was supposed to make an\n",
      "appearence \"this summer\" but haven't heard anymore on it - and since i\n",
      "don't have access to macleak, i was wondering if anybody out there had\n",
      "more info...\n",
      "\n",
      "* has anybody heard rumors about price drops to the powerbook line like the\n",
      "ones the duo's just went through recently?\n",
      "\n",
      "* what's the impression of the display on the 180?  i could probably swing\n",
      "a 180 if i got the 80Mb disk rather than the 120, but i don't really have\n",
      "a feel for how much \"better\" the display is (yea, it looks great in the\n",
      "store, but is that all \"wow\" or is it really that good?).  could i solicit\n",
      "some opinions of people who use the 160 and 180 day-to-day on if its worth\n",
      "taking the disk size and money hit to get the active display?  (i realize\n",
      "this is a real subjective question, but i've only played around with the\n",
      "machines in a computer store breifly and figured the opinions of somebody\n",
      "who actually uses the machine daily might prove helpful).\n",
      "\n",
      "* how well does hellcats perform?  ;)\n",
      "\n",
      "thanks a bunch in advance for any info - if you could email, i'll post a\n",
      "summary (news reading time is at a premium with finals just around the\n",
      "corner... :( )\n",
      "--\n",
      "Tom Willis  \\  twillis@ecn.purdue.edu    \\    Purdue Electrical Engineering\n",
      "---------------------------------------------------------------------------\n",
      "\"Convictions are more dangerous enemies of truth than lies.\"  - F. W.\n",
      "Nietzsche\n",
      "\n",
      "From: tchen@magnus.acs.ohio-state.edu (Tsung-Kun Chen)\n",
      "Subject: ** Software forsale (lots) **\n",
      "Nntp-Posting-Host: magnusug.magnus.acs.ohio-state.edu\n",
      "Organization: The Ohio State University\n",
      "    ****   This is a post for my friend,  You can either call    ****\n",
      "    ****    him  J.K Lee  (614)791-0748    or Drop me a mail     ****\n",
      "Distribution: usa\n",
      "Lines: 39\n",
      "\n",
      "1.  Software publishing SuperBase 4 windows v.1.3           --->$80\n",
      "\n",
      "2.  OCR System ReadRight v.3.1 for Windows                  --->$65\n",
      "\n",
      "3.  OCR System ReadRight  v.2.01 for DOS                    --->$65\n",
      "\n",
      "4.  Unregistered Zortech 32 bit C++ Compiler v.3.1          --->$ 250\n",
      "     with Multiscope windows Debugger,\n",
      "     WhiteWater Resource Toolkit, Library Source Code\n",
      "\n",
      "5.  Glockenspiel/ImageSoft Commonview 2 Windows\n",
      "     Applications Framework for Borland C++                 --->$70\n",
      "\n",
      "6.  Spontaneous Assembly Library With Source Code           --->$50\n",
      "\n",
      "7.  Microsoft Macro Assembly 6.0                            --->$50\n",
      "\n",
      "8.  Microsoft Windows v.3.1 SDK Documentation               --->$125\n",
      "\n",
      "9.  Microsoft FoxPro V.2.0                                  --->$75\n",
      "\n",
      "10.  WordPerfect 5.0 Developer's Toolkit                    --->$20\n",
      "\n",
      "11.  Kedwell Software DataBoss v.3.5 C Code Generator       --->$100\n",
      "\n",
      "12.  Kedwell InstallBoss v.2.0 Installation Generator       --->$35\n",
      "\n",
      "13.  Liant Software C++/Views v.2.1\n",
      "       Windows Application Framework with Source Code       --->$195\n",
      "\n",
      "14.  IBM OS/2 2.0 & Developer's Toolkit                     --->$95\n",
      "\n",
      "15.  CBTree DOS/Windows Library with Source Code            --->$120\n",
      "\n",
      "16.  Symantec TimeLine for Windows                          --->$90\n",
      "\n",
      "17.  TimeSlip TimeSheet Professional for Windows            --->$30\n",
      "\n",
      "         Many More Software/Books Available,Price Negotiable\n",
      "\n",
      "['alt.atheism', 'comp.graphics', 'comp.os.ms-windows.misc', 'comp.sys.ibm.pc.hardware', 'comp.sys.mac.hardware', 'comp.windows.x', 'misc.forsale', 'rec.autos', 'rec.motorcycles', 'rec.sport.baseball', 'rec.sport.hockey', 'sci.crypt', 'sci.electronics', 'sci.med', 'sci.space', 'soc.religion.christian', 'talk.politics.guns', 'talk.politics.mideast', 'talk.politics.misc', 'talk.religion.misc']\n",
      "(11314,)\n",
      "(7532,)\n"
     ]
    }
   ],
   "source": [
    "train_news = fetch_20newsgroups(subset='train')\n",
    "test_news = fetch_20newsgroups(subset='test')\n",
    "print(train_news.data[0])\n",
    "print(train_news.data[1])\n",
    "print(train_news.data[2])\n",
    "print(train_news.data[100])\n",
    "print(train_news.target_names)\n",
    "print(train_news.target.shape)\n",
    "print(test_news.target.shape)"
   ]
  },
  {
   "cell_type": "markdown",
   "metadata": {},
   "source": [
    "* 数据集由sklearn导入，已经将其分成了测试集和训练集两部分，其中训练集有11314个样本，测试集有7532个样本，数据集已经分为了20个样本了。\n",
    "* 每篇样本文档可以看作电子邮件文档，有来信人，正文，结束语等结构"
   ]
  },
  {
   "cell_type": "markdown",
   "metadata": {},
   "source": [
    "## 新闻数据探索可视化"
   ]
  },
  {
   "cell_type": "code",
   "execution_count": 3,
   "metadata": {},
   "outputs": [],
   "source": [
    "categories = train_news.target_names\n",
    "sub_train_news = fetch_20newsgroups(subset='train', categories=categories)\n",
    "sub_test_news = fetch_20newsgroups(subset='test',categories=categories)"
   ]
  },
  {
   "cell_type": "code",
   "execution_count": 4,
   "metadata": {},
   "outputs": [
    {
     "data": {
      "image/png": "[encoded data removed]",
      "text/plain": [
       "<matplotlib.figure.Figure at 0x2682710>"
      ]
     },
     "metadata": {},
     "output_type": "display_data"
    }
   ],
   "source": [
    "# 观察不同分类的文档数量分布\n",
    "df = pd.DataFrame(sub_train_news.target, columns=['category'], dtype=np.int8)\n",
    "sum = df['category'].groupby(df['category']).count()\n",
    "sum.index = sub_train_news.target_names\n",
    "sum.plot(kind = 'bar',figsize=(10, 5))\n",
    "plt.title('训练新闻数据不同类别文档数统计图')\n",
    "plt.xlabel('文档类别')\n",
    "plt.ylabel('文档总数')\n",
    "plt.show()\n"
   ]
  },
  {
   "cell_type": "code",
   "execution_count": 5,
   "metadata": {},
   "outputs": [
    {
     "data": {
      "image/png": "[encoded data removed]",
      "text/plain": [
       "<matplotlib.figure.Figure at 0xf6a8fd0>"
      ]
     },
     "metadata": {},
     "output_type": "display_data"
    }
   ],
   "source": [
    "from collections import Counter  \n",
    "# 将文档分词，并统计不同单词的数量\n",
    "def get_topN_word(data):\n",
    "    texts = [[word for word in document.lower().split()]  \n",
    "              for document in data]  \n",
    "    \n",
    "    frequency = {}\n",
    "    for text in texts:  \n",
    "        for token in text:  \n",
    "            if not token in frequency:\n",
    "                frequency[token] = 0\n",
    "            frequency[token] += 1\n",
    "    \n",
    "\n",
    "    word_counter = Counter(frequency)\n",
    "    word_counter.most_common(50)\n",
    "    train_texts_df = pd.DataFrame.from_dict(frequency,orient='index')\n",
    "    train_texts_df.columns = ['count']\n",
    "    train_texts_df.sort_values(['count'], ascending=False, inplace=True)\n",
    "    top_n_words_df = train_texts_df.head(50)\n",
    "    return top_n_words_df\n",
    "\n",
    "train_top_n_words = get_topN_word(sub_train_news.data)\n",
    "train_top_n_words.plot(kind='bar',figsize=(16,5))\n",
    "plt.title('训练数据集单词数量统计')\n",
    "plt.show()\n",
    "\n",
    "# test_top_n_words = get_topN_word(sub_test_news.data)\n",
    "# test_top_n_words.plot(kind='bar',figsize=(16,5))\n",
    "# plt.title('测试数据集单词数量统计')\n",
    "# plt.show()"
   ]
  },
  {
   "cell_type": "code",
   "execution_count": 6,
   "metadata": {},
   "outputs": [
    {
     "data": {
      "image/png": "[encoded data removed]",
      "text/plain": [
       "<matplotlib.figure.Figure at 0xf806438>"
      ]
     },
     "metadata": {},
     "output_type": "display_data"
    }
   ],
   "source": [
    "# 统计每篇文档单词总数\n",
    "def count_doc_words(data):\n",
    "    texts = [[word for word in document.lower().split()] for document in data]\n",
    "\n",
    "    for index, text in enumerate(texts):\n",
    "        texts[index] = len(text)\n",
    "     \n",
    "    return texts\n",
    "\n",
    "fig, axes = plt.subplots(nrows=1, ncols=2, figsize=(10, 5))\n",
    "ax0, ax1= axes.flatten()\n",
    "ax0.hist(count_doc_words(sub_train_news.data), 10)\n",
    "ax0.set_title('训练数据每篇文档单词总数直方图1')\n",
    "\n",
    "\n",
    "ax1.hist(count_doc_words(sub_train_news.data), [200,400,600,800,1000,1200,1400,1600,1800,2000])\n",
    "ax1.set_title('训练数据每篇文档单词总数直方图2')\n",
    "plt.show()"
   ]
  },
  {
   "cell_type": "code",
   "execution_count": 7,
   "metadata": {},
   "outputs": [
    {
     "data": {
      "image/png": "[encoded data removed]",
      "text/plain": [
       "<matplotlib.figure.Figure at 0xf807be0>"
      ]
     },
     "metadata": {},
     "output_type": "display_data"
    }
   ],
   "source": [
    "# 统计每篇文档单词总数\n",
    "def count_doc_lines(data):\n",
    "    texts = [ len(document.split('\\n')) for document in data]\n",
    "     \n",
    "    return texts\n",
    "\n",
    "fig, axes = plt.subplots(nrows=1, ncols=2, figsize=(10, 5))\n",
    "ax0, ax1= axes.flatten()\n",
    "ax0.hist(count_doc_lines(sub_train_news.data), 10)\n",
    "ax0.set_title('训练数据每篇文档行数总数直方图1')\n",
    "# ax1.hist(count_doc_lines(sub_train_news.data), 10)\n",
    "# ax1.set_title('测试数据每篇文档行数总数直方图1')\n",
    "\n",
    "ax1.hist(count_doc_lines(sub_train_news.data), [50,100,150,200,250,300,350,400])\n",
    "ax1.set_title('训练数据每篇文档行数总数直方图2')\n",
    "# ax3.hist(count_doc_lines(sub_train_news.data), [50,100,150,200,250,300,350,400])\n",
    "# ax3.set_title('测试数据每篇文档行数总数直方图2')\n",
    "plt.show()"
   ]
  },
  {
   "cell_type": "code",
   "execution_count": 33,
   "metadata": {},
   "outputs": [],
   "source": [
    "categories = ['rec.sport.baseball', 'comp.graphics', 'sci.med', 'soc.religion.christian']\n",
    "sub_train_news = fetch_20newsgroups(subset='train', categories=categories)\n",
    "sub_test_news = fetch_20newsgroups(subset='test',categories=categories)"
   ]
  },
  {
   "cell_type": "markdown",
   "metadata": {},
   "source": [
    "##  新闻文档分词预处理"
   ]
  },
  {
   "cell_type": "code",
   "execution_count": 31,
   "metadata": {},
   "outputs": [],
   "source": [
    "from gensim.parsing.preprocessing import preprocess_string\n",
    "from nltk.corpus import stopwords  \n",
    "def preprocessing_text(data):\n",
    "    \"\"\"\n",
    "    @去除英文停用词,去除单词前后的特殊符号，去除仅出现一次的单词\n",
    "    \"\"\"\n",
    "    texts = []\n",
    "    for document in data:\n",
    "        texts.append(preprocess_string(document))\n",
    "\n",
    "    frequency = {}\n",
    "    for text in texts:  \n",
    "        for token in text:  \n",
    "            if not token in frequency:\n",
    "                frequency[token] = 0\n",
    "            frequency[token] += 1\n",
    "\n",
    "    texts = [[token for token in text if frequency[token] > 1] for text in texts]\n",
    "    return texts, frequency\n",
    "\n",
    "def custom_preprocessing_text(data):\n",
    "   \n",
    "    english_stopwords = stopwords.words('english')  \n",
    "    # 数据来源：https://www.ranks.nl/stopwords\n",
    "    stoplist = [line.lower().strip() for line in open('englist_long_stop_words_v1.txt')]\n",
    "    english_stopwords.extend(stoplist)\n",
    "    # 数据来源：http://blog.csdn.net/shijiebei2009/article/details/39696523\n",
    "    stoplist = [line.lower().strip() for line in open('englist_long_stop_words_v2.txt')]\n",
    "    english_stopwords.extend(stoplist)\n",
    "    # 数据来源：http://blog.csdn.net/u014470581/article/details/51598258\n",
    "    stoplist = [line.lower().strip() for line in open('englist_long_stop_words_v3.txt')]\n",
    "    english_stopwords.extend(stoplist)\n",
    "    english_stopwords = list(set(english_stopwords))\n",
    "\n",
    "    english_punctuations = [',','.',':',';','?','!','(',')','[',']',\n",
    "                            '@','&','#','%','$','{','}','--','-','_','*','\\\\','\\\\\\\\','/','//','|','||','>','<','+','\"',\"'\",'=','^']\n",
    "\n",
    "    _excludes = [str(i) for i in range(11)]\n",
    "    _excludes.extend(english_punctuations)\n",
    "    _excludes.remove('-')\n",
    "    _excludes.remove(\"'\")\n",
    "    \n",
    "    texts = []\n",
    "    for document in data:\n",
    "        _doc = []\n",
    "        for word in document.lower().split():\n",
    "           \n",
    "            while word:\n",
    "                if word[0] in english_punctuations:\n",
    "                    word = word.strip(word[0])\n",
    "                elif word[-1] in english_punctuations:\n",
    "                    word = word.strip(word[-1])\n",
    "                else:\n",
    "                    break\n",
    "          \n",
    "            if word and word not in english_stopwords:\n",
    "                _flag = True\n",
    "                for s in _excludes:\n",
    "                    if s in word:\n",
    "                        _flag = False\n",
    "                        break\n",
    "                if _flag:\n",
    "                    _doc.append(word)\n",
    "        texts.append(_doc)\n",
    "\n",
    "    frequency = {}\n",
    "    for text in texts:  \n",
    "        for token in text:  \n",
    "            if not token in frequency:\n",
    "                frequency[token] = 0\n",
    "            frequency[token] += 1\n",
    "\n",
    "    texts = [[token for token in text if frequency[token] > 2] for text in texts]\n",
    "    return texts, frequency\n"
   ]
  },
  {
   "cell_type": "code",
   "execution_count": 34,
   "metadata": {
    "scrolled": true
   },
   "outputs": [
    {
     "data": {
      "image/png": "[encoded data removed]",
      "text/plain": [
       "<matplotlib.figure.Figure at 0x3fdc4dd8>"
      ]
     },
     "metadata": {},
     "output_type": "display_data"
    }
   ],
   "source": [
    "sub_news_data = sub_train_news.data[:]\n",
    "sub_news_data.extend(sub_test_news.data)\n",
    "\n",
    "custom_all_sub_texts, custom_sub_all_frequency = custom_preprocessing_text(sub_news_data)\n",
    "custom_sub_train_texts, custom_train_frequency  = custom_preprocessing_text(sub_train_news.data)\n",
    "custom_sub_test_texts, custom_test_frequency = custom_preprocessing_text(sub_test_news.data)\n",
    "\n",
    "custom_train_texts_df = pd.DataFrame.from_dict(custom_sub_all_frequency, orient='index')\n",
    "custom_train_texts_df.columns = ['count']\n",
    "custom_train_texts_df.sort_values(['count'], ascending=False, inplace=True)\n",
    "custom_train_top_n_words = custom_train_texts_df.head(50)\n",
    "custom_train_top_n_words.plot(kind='bar',figsize=(16,5))\n",
    "plt.title('自定义分词训练集数据集单词数量统计')\n",
    "\n",
    "plt.show()\n"
   ]
  },
  {
   "cell_type": "markdown",
   "metadata": {},
   "source": [
    "## 保存分词结果"
   ]
  },
  {
   "cell_type": "code",
   "execution_count": 35,
   "metadata": {},
   "outputs": [],
   "source": [
    "from gensim import corpora, models, similarities\n",
    "# 保存分词结果\n",
    "custom_dictionary = corpora.Dictionary(custom_all_sub_texts)  \n",
    "custom_dictionary.save('corpus_module/custom_texts.dict')\n",
    "custom_all_corpus = [custom_dictionary.doc2bow(text) for text in custom_all_sub_texts]\n",
    "corpora.MmCorpus.serialize('corpus_module/custom_texts.mm', custom_all_corpus)\n",
    "custom_train_corpus = [custom_dictionary.doc2bow(text) for text in custom_sub_train_texts]  \n",
    "corpora.MmCorpus.serialize('corpus_module/custom_train_texts.mm', custom_train_corpus)\n",
    "custom_test_corpus = [custom_dictionary.doc2bow(text) for text in custom_sub_test_texts]  \n",
    "corpora.MmCorpus.serialize('corpus_module/custom_test_texts.mm', custom_test_corpus)\n"
   ]
  },
  {
   "cell_type": "markdown",
   "metadata": {},
   "source": [
    "## 文档分类"
   ]
  },
  {
   "cell_type": "code",
   "execution_count": 44,
   "metadata": {},
   "outputs": [
    {
     "name": "stdout",
     "output_type": "stream",
     "text": [
      "custom dictionary count:17407\n"
     ]
    }
   ],
   "source": [
    "# 加载语料库\n",
    "import gensim\n",
    "from gensim import corpora, models, similarities\n",
    "from gensim import sklearn_api\n",
    "from sklearn.datasets import fetch_20newsgroups\n",
    "\n",
    "\n",
    "categories = ['rec.sport.baseball', 'comp.graphics', 'sci.med', 'soc.religion.christian']\n",
    "sub_train_news = fetch_20newsgroups(subset='train', categories=categories)\n",
    "sub_test_news = fetch_20newsgroups(subset='test',categories=categories)\n",
    "\n",
    "custom_all_corpus = corpora.MmCorpus('corpus_module/custom_texts.mm')\n",
    "custom_dictionary = corpora.Dictionary.load('corpus_module/custom_texts.dict')\n",
    "custom_train_corpus = corpora.MmCorpus('corpus_module/custom_train_texts.mm')\n",
    "custom_test_corpus = corpora.MmCorpus('corpus_module/custom_test_texts.mm')\n",
    "\n",
    "# 将gensim稀疏矩阵转换为numpy 数组类型\n",
    "from sklearn.feature_extraction.text import CountVectorizer, TfidfTransformer\n",
    "len_custom_dict = len(custom_dictionary.token2id)\n",
    "\n",
    "\n",
    "custom_train_matrix = gensim.matutils.corpus2dense(custom_train_corpus, num_terms=len_custom_dict).T\n",
    "custom_test_matrix = gensim.matutils.corpus2dense(custom_test_corpus, num_terms=len_custom_dict).T\n",
    "\n",
    "vectorizer = TfidfTransformer()\n",
    "custom_train_matrix = vectorizer.fit_transform(custom_train_matrix)\n",
    "custom_test_matrix = vectorizer.fit_transform(custom_test_matrix)\n",
    "print('custom dictionary count:{}'.format(len(custom_dictionary)))"
   ]
  },
  {
   "cell_type": "markdown",
   "metadata": {},
   "source": [
    "### SVM model"
   ]
  },
  {
   "cell_type": "code",
   "execution_count": 9,
   "metadata": {},
   "outputs": [
    {
     "name": "stdout",
     "output_type": "stream",
     "text": [
      "total time 2.0681183338165283\n",
      "the f1 score of test svm is 0.9587960236339144\n",
      "the f1 score of train set is 0.999155351820588\n",
      "the accuracy score of test svm is 0.9588607594936709\n",
      "the accuracy score of train set is 0.9991575400168492\n"
     ]
    }
   ],
   "source": [
    "# SVM with linear kernel \n",
    "from sklearn import svm\n",
    "from sklearn import metrics\n",
    "import time\n",
    "\n",
    "clf = svm.SVC(kernel='linear',random_state=8) # 使用线性核\n",
    "start_time = time.time()\n",
    "clf_res = clf.fit(custom_train_matrix, sub_train_news.target)\n",
    "print('total time {}'.format(time.time() - start_time))\n",
    "test_pred   = clf_res.predict(custom_test_matrix)\n",
    "\n",
    "custom_svm_score = metrics.f1_score(sub_test_news.target, test_pred, average='macro')\n",
    "train_pred = clf_res.predict(custom_train_matrix)\n",
    "train_custom_svm_score = metrics.f1_score(sub_train_news.target, train_pred, average='macro')\n",
    "\n",
    "\n",
    "# print('the score of gensim svm is {}'.format(gensim_svm_score))\n",
    "print('the f1 score of test svm is {}'.format(custom_svm_score))\n",
    "print('the f1 score of train set is {}'.format(train_custom_svm_score))\n",
    "\n",
    "test_accuracy_score = metrics.accuracy_score(sub_test_news.target, test_pred)\n",
    "train_accuracy_score = metrics.accuracy_score(sub_train_news.target, train_pred) \n",
    "print('the accuracy score of test svm is {}'.format(test_accuracy_score))\n",
    "print('the accuracy score of train set is {}'.format(train_accuracy_score))\n"
   ]
  },
  {
   "cell_type": "code",
   "execution_count": 27,
   "metadata": {},
   "outputs": [
    {
     "data": {
      "text/plain": [
       "[mean: 0.25232, std: 0.00133, params: {'C': 0.001},\n",
       " mean: 0.25232, std: 0.00133, params: {'C': 0.01},\n",
       " mean: 0.95198, std: 0.01447, params: {'C': 0.1},\n",
       " mean: 0.98189, std: 0.00943, params: {'C': 1}]"
      ]
     },
     "execution_count": 27,
     "metadata": {},
     "output_type": "execute_result"
    }
   ],
   "source": [
    "# GridSearchCV svm\n",
    "import time\n",
    "from sklearn import svm\n",
    "from sklearn import metrics\n",
    "from sklearn.grid_search import GridSearchCV\n",
    "params = {'C': [0.001, 0.01, 0.1, 1]}\n",
    "clf = svm.SVC(kernel='linear',random_state=8) # 使用线性核\n",
    "gs = GridSearchCV(clf, params, cv=10, scoring='accuracy')\n",
    "gs.fit(custom_train_matrix, sub_train_news.target)\n",
    "gs.grid_scores_"
   ]
  },
  {
   "cell_type": "code",
   "execution_count": 22,
   "metadata": {},
   "outputs": [
    {
     "name": "stdout",
     "output_type": "stream",
     "text": [
      "{'C': 1}\n",
      "[ 0.9874477   0.9707113   0.9958159   0.9874477   0.97046414  0.99156118\n",
      "  0.98312236  0.98305085  0.98305085  0.99574468]\n",
      "0.9848357203032856\n",
      "[0.9671440606571188, 0.9730412805391744, 0.9797809604043808, 0.9848357203032856]\n"
     ]
    }
   ],
   "source": [
    "print(gs.grid_scores_[3].parameters)\n",
    "print(gs.grid_scores_[3].cv_validation_scores)\n",
    "print(gs.grid_scores_[3].mean_validation_score)\n",
    "grid_mean_scores = [result.mean_validation_score for result in gs.grid_scores_]\n",
    "print(grid_mean_scores)"
   ]
  },
  {
   "cell_type": "code",
   "execution_count": 20,
   "metadata": {},
   "outputs": [
    {
     "name": "stdout",
     "output_type": "stream",
     "text": [
      "total time 0.08000445365905762\n",
      "the f1 score of test svm is 0.9619169430613329\n",
      "the f1 score of train set is 1.0\n",
      "the accuracy score of test svm is 0.9620253164556962\n",
      "the accuracy score of train set is 1.0\n"
     ]
    }
   ],
   "source": [
    "# LinearSVC\n",
    "from sklearn import svm\n",
    "from sklearn import metrics\n",
    "import time\n",
    "\n",
    "clf = svm.LinearSVC(random_state=8) # 使用线性核\n",
    "start_time = time.time()\n",
    "clf_res = clf.fit(custom_train_matrix, sub_train_news.target)\n",
    "print('total time {}'.format(time.time() - start_time))\n",
    "test_pred   = clf_res.predict(custom_test_matrix)\n",
    "\n",
    "custom_svm_score = metrics.f1_score(sub_test_news.target, test_pred, average='macro')\n",
    "train_pred = clf_res.predict(custom_train_matrix)\n",
    "train_custom_svm_score = metrics.f1_score(sub_train_news.target, train_pred, average='macro')\n",
    "\n",
    "\n",
    "# print('the score of gensim svm is {}'.format(gensim_svm_score))\n",
    "print('the f1 score of test svm is {}'.format(custom_svm_score))\n",
    "print('the f1 score of train set is {}'.format(train_custom_svm_score))\n",
    "\n",
    "test_accuracy_score = metrics.accuracy_score(sub_test_news.target, test_pred)\n",
    "train_accuracy_score = metrics.accuracy_score(sub_train_news.target, train_pred) \n",
    "print('the accuracy score of test svm is {}'.format(test_accuracy_score))\n",
    "print('the accuracy score of train set is {}'.format(train_accuracy_score))"
   ]
  },
  {
   "cell_type": "markdown",
   "metadata": {},
   "source": [
    "### 多项式 Naive Bayes"
   ]
  },
  {
   "cell_type": "code",
   "execution_count": 30,
   "metadata": {},
   "outputs": [
    {
     "name": "stdout",
     "output_type": "stream",
     "text": [
      "total time 0.005000114440917969\n",
      "the f1 score of test mnb is 0.952821910918785\n",
      "the f1 score of train mnb is 0.9949391465983992\n",
      "the accuracy score of test mnb is 0.9531645569620253\n",
      "the accuracy score of train mnb is 0.9949452401010952\n"
     ]
    }
   ],
   "source": [
    "import time\n",
    "from sklearn.naive_bayes import MultinomialNB\n",
    "from sklearn import metrics\n",
    "\n",
    "start_time = time.time()\n",
    "clf = MultinomialNB()\n",
    "clf.fit(custom_train_matrix, sub_train_news.target)\n",
    "print('total time {}'.format(time.time() - start_time))\n",
    "test_pred = clf.predict(custom_test_matrix)\n",
    "train_pred = clf.predict(custom_train_matrix)\n",
    "\n",
    "test_f1_score = metrics.f1_score(sub_test_news.target, test_pred, average='macro')\n",
    "train_f1_score = metrics.f1_score(sub_train_news.target, train_pred, average='macro') \n",
    "print('the f1 score of test mnb is {}'.format(test_f1_score))\n",
    "print('the f1 score of train mnb is {}'.format(train_f1_score))\n",
    "\n",
    "test_accuracy_score = metrics.accuracy_score(sub_test_news.target, test_pred)\n",
    "train_accuracy_score = metrics.accuracy_score(sub_train_news.target, train_pred) \n",
    "print('the accuracy score of test mnb is {}'.format(test_accuracy_score))\n",
    "print('the accuracy score of train mnb is {}'.format(train_accuracy_score))\n"
   ]
  },
  {
   "cell_type": "code",
   "execution_count": 31,
   "metadata": {},
   "outputs": [
    {
     "data": {
      "text/plain": [
       "[mean: 0.98484, std: 0.00838, params: {'alpha': 0.001},\n",
       " mean: 0.98989, std: 0.00774, params: {'alpha': 0.01},\n",
       " mean: 0.98736, std: 0.00724, params: {'alpha': 0.1},\n",
       " mean: 0.98273, std: 0.00684, params: {'alpha': 1}]"
      ]
     },
     "execution_count": 31,
     "metadata": {},
     "output_type": "execute_result"
    }
   ],
   "source": [
    "# GridSearchCV \n",
    "import time\n",
    "from sklearn import svm\n",
    "from sklearn import metrics\n",
    "from sklearn.naive_bayes import MultinomialNB\n",
    "from sklearn.grid_search import GridSearchCV\n",
    "params = {'alpha': [0.001, 0.01, 0.1, 1]}\n",
    "clf =  MultinomialNB()\n",
    "gs = GridSearchCV(clf, params, cv=10, scoring='accuracy')\n",
    "gs.fit(custom_train_matrix, sub_train_news.target)\n",
    "gs.grid_scores_\n"
   ]
  },
  {
   "cell_type": "code",
   "execution_count": 45,
   "metadata": {},
   "outputs": [
    {
     "name": "stdout",
     "output_type": "stream",
     "text": [
      "total time 0.0060002803802490234\n",
      "the f1 score of test mnb is 0.9586605206878345\n",
      "the f1 score of train mnb is 0.9987330039195134\n",
      "the accuracy score of test mnb is 0.9588607594936709\n",
      "the accuracy score of train mnb is 0.9987363100252739\n"
     ]
    }
   ],
   "source": [
    "# alpha = 0.01\n",
    "start_time = time.time()\n",
    "clf = MultinomialNB(alpha=.01)\n",
    "clf.fit(custom_train_matrix, sub_train_news.target)\n",
    "print('total time {}'.format(time.time() - start_time))\n",
    "test_pred = clf.predict(custom_test_matrix)\n",
    "train_pred = clf.predict(custom_train_matrix)\n",
    "\n",
    "test_f1_score = metrics.f1_score(sub_test_news.target, test_pred, average='macro')\n",
    "train_f1_score = metrics.f1_score(sub_train_news.target, train_pred, average='macro') \n",
    "print('the f1 score of test mnb is {}'.format(test_f1_score))\n",
    "print('the f1 score of train mnb is {}'.format(train_f1_score))\n",
    "\n",
    "test_accuracy_score = metrics.accuracy_score(sub_test_news.target, test_pred)\n",
    "train_accuracy_score = metrics.accuracy_score(sub_train_news.target, train_pred) \n",
    "print('the accuracy score of test mnb is {}'.format(test_accuracy_score))\n",
    "print('the accuracy score of train mnb is {}'.format(train_accuracy_score))"
   ]
  },
  {
   "cell_type": "markdown",
   "metadata": {},
   "source": [
    "### 前向反馈神经网络"
   ]
  },
  {
   "cell_type": "code",
   "execution_count": 2,
   "metadata": {},
   "outputs": [],
   "source": [
    "custom_train_matrix = custom_train_matrix.toarray() # 将稀疏矩阵转化为numpy array\n",
    "custom_test_matrix = custom_test_matrix.toarray() # 将稀疏矩阵转化为numpy array"
   ]
  },
  {
   "cell_type": "code",
   "execution_count": 21,
   "metadata": {},
   "outputs": [],
   "source": [
    "import tensorflow as tf\n",
    "import numpy as np\n",
    "\n",
    "len_custom_dict = len(custom_dictionary.token2id)\n",
    "\n",
    "def get_batch(df,i,batch_size,target):\n",
    "\n",
    "    results = []\n",
    "    texts = df[i*batch_size:i*batch_size+batch_size]\n",
    "    categories = target[i*batch_size:i*batch_size+batch_size]\n",
    "        \n",
    "    for category in categories:\n",
    "        y = np.zeros((4),dtype=float)\n",
    "        if category == 0:\n",
    "            y[0] = 1.\n",
    "        elif category == 1:\n",
    "            y[1] = 1.\n",
    "        elif category == 2:\n",
    "            y[2] = 1.\n",
    "        elif category == 3:\n",
    "            y[3] = 1.\n",
    "        results.append(y)           \n",
    "     \n",
    "    return texts.astype(np.float32), np.array(results).astype(np.float32)\n",
    "\n",
    "\n",
    "tf.reset_default_graph()\n",
    "# Parameters\n",
    "learning_rate = 0.05\n",
    "training_epochs = 30\n",
    "batch_size = 100\n",
    "display_step = 1\n",
    "\n",
    "# Network Parameters\n",
    "n_hidden_1 = 3072     # 1st layer number of features\n",
    "n_hidden_2 = 3072  # 2nd layer number of features\n",
    "n_input = len_custom_dict # Words in vocab\n",
    "n_classes = 4         # Categories: graphics, sci.space and baseball\n",
    "\n",
    "input_tensor = tf.placeholder(tf.float32,[None, n_input],name=\"input\")\n",
    "output_tensor = tf.placeholder(tf.float32,[None, n_classes],name=\"output\") \n",
    "def multilayer_perceptron(input_tensor, weights, biases):\n",
    "    layer_1_multiplication = tf.matmul(input_tensor, weights['h1'])\n",
    "    layer_1_addition = tf.add(layer_1_multiplication, biases['b1'])\n",
    "    layer_1 = tf.nn.relu(layer_1_addition)\n",
    "    \n",
    "    # Hidden layer with RELU activation\n",
    "    layer_2_multiplication = tf.matmul(layer_1, weights['h2'])\n",
    "    layer_2_addition = tf.add(layer_2_multiplication, biases['b2'])\n",
    "    layer_2 = tf.nn.relu(layer_2_addition)\n",
    "    \n",
    "    # Output layer \n",
    "    out_layer_multiplication = tf.matmul(layer_1, weights['out'])\n",
    "    out_layer_addition = out_layer_multiplication + biases['out']\n",
    "    \n",
    "    return out_layer_addition\n",
    "\n",
    "# Store layers weight & bias\n",
    "weights = {\n",
    "    'h1': tf.Variable(tf.random_normal([n_input, n_hidden_1])),\n",
    "    'h2': tf.Variable(tf.random_normal([n_hidden_1, n_hidden_2])),\n",
    "    'out': tf.Variable(tf.random_normal([n_hidden_2, n_classes]))\n",
    "}\n",
    "biases = {\n",
    "    'b1': tf.Variable(tf.random_normal([n_hidden_1])),\n",
    "    'b2': tf.Variable(tf.random_normal([n_hidden_2])),\n",
    "    'out': tf.Variable(tf.random_normal([n_classes]))\n",
    "}\n",
    "\n",
    "# Construct model\n",
    "prediction = multilayer_perceptron(input_tensor, weights, biases)\n",
    "\n",
    "# Define loss and optimizer\n",
    "loss = tf.reduce_mean(tf.nn.softmax_cross_entropy_with_logits(logits=prediction, labels=output_tensor))\n",
    "optimizer = tf.train.AdamOptimizer(learning_rate=learning_rate).minimize(loss)\n",
    "\n",
    "# Initializing the variables\n",
    "init = tf.global_variables_initializer()"
   ]
  },
  {
   "cell_type": "code",
   "execution_count": 22,
   "metadata": {
    "scrolled": true
   },
   "outputs": [
    {
     "name": "stdout",
     "output_type": "stream",
     "text": [
      "Epoch: 0001 loss= 24.177479008\n",
      "Epoch: 0002 loss= 0.806768425\n",
      "Epoch: 0003 loss= 0.113358098\n",
      "Epoch: 0004 loss= 0.010200693\n",
      "Epoch: 0005 loss= 0.000000000\n",
      "Epoch: 0006 loss= 0.000000000\n",
      "Epoch: 0007 loss= 0.000000000\n",
      "Epoch: 0008 loss= 0.000000000\n",
      "Epoch: 0009 loss= 0.000000000\n",
      "Epoch: 0010 loss= 0.000000000\n",
      "Epoch: 0011 loss= 0.000000000\n",
      "Epoch: 0012 loss= 0.000000000\n",
      "Epoch: 0013 loss= 0.000000000\n",
      "Epoch: 0014 loss= 0.000000000\n",
      "Epoch: 0015 loss= 0.000000000\n",
      "Epoch: 0016 loss= 0.000000000\n",
      "Epoch: 0017 loss= 0.000000000\n",
      "Epoch: 0018 loss= 0.000000000\n",
      "Epoch: 0019 loss= 0.000000000\n",
      "Epoch: 0020 loss= 0.000000000\n",
      "Epoch: 0021 loss= 0.000000000\n",
      "Epoch: 0022 loss= 0.000000000\n",
      "Epoch: 0023 loss= 0.000000000\n",
      "Epoch: 0024 loss= 0.000000000\n",
      "Epoch: 0025 loss= 0.000000000\n",
      "Epoch: 0026 loss= 0.000000000\n",
      "Epoch: 0027 loss= 0.000000000\n",
      "Epoch: 0028 loss= 0.000000000\n",
      "Epoch: 0029 loss= 0.000000000\n",
      "Epoch: 0030 loss= 0.000000000\n",
      "total time 109.49326276779175\n",
      "Optimization Finished!\n",
      "Accuracy: 0.93481\n",
      "Train Accuracy: 0.998736\n",
      "Precision 0.934599976769\n",
      "Recall 0.934617656629\n",
      "f1_score 0.934497605318\n"
     ]
    }
   ],
   "source": [
    "import time\n",
    "from sklearn import metrics\n",
    "loss_data = []\n",
    "acc_data = []\n",
    "train_acc_data = []\n",
    "# Launch the graph\n",
    "with tf.Session() as sess:\n",
    "    sess.run(init)\n",
    "\n",
    "    # Training cycle\n",
    "    start_time = time.time()\n",
    "\n",
    "    batch_x_train,batch_y_train = get_batch(custom_train_matrix,0,len(sub_train_news.data),sub_train_news.target)\n",
    "    total_test_data = len(sub_test_news.data)\n",
    "    batch_x_test,batch_y_test = get_batch(custom_test_matrix,0,total_test_data, sub_test_news.target)\n",
    " \n",
    "    for epoch in range(training_epochs):\n",
    "        avg_cost = 0.\n",
    "        total_batch = int(len(sub_train_news.data)/ batch_size)\n",
    "        # Loop over all batches\n",
    "        for i in range(total_batch):\n",
    "#             batch_x,batch_y = get_batch(newsgroups_train,i,batch_size)\n",
    "            batch_x,batch_y = get_batch(custom_train_matrix,i,batch_size,sub_train_news.target)\n",
    "         \n",
    "            # Run optimization op (backprop) and cost op (to get loss value)\n",
    "            val_loss,val_acc = sess.run([loss,optimizer], feed_dict={input_tensor: batch_x,output_tensor:batch_y})\n",
    "            # Compute average loss\n",
    "            avg_cost += val_loss / total_batch\n",
    "        # Display logs per epoch step\n",
    "        if epoch % display_step == 0:\n",
    "            print(\"Epoch:\", '%04d' % (epoch+1), \"loss=\", \\\n",
    "                \"{:.9f}\".format(avg_cost))\n",
    "     \n",
    "        correct_prediction = tf.equal(tf.argmax(prediction, 1), tf.argmax(output_tensor, 1))\n",
    "        accuracy = tf.reduce_mean(tf.cast(correct_prediction, \"float\"))\n",
    "        loss_data.append(avg_cost)\n",
    "        acc_data.append(accuracy.eval({input_tensor: batch_x_test, output_tensor: batch_y_test}))\n",
    "        train_acc_data.append(accuracy.eval({input_tensor: batch_x_train, output_tensor: batch_y_train}))\n",
    "\n",
    "    print('total time {}'.format(time.time() - start_time))\n",
    "    print(\"Optimization Finished!\")\n",
    "    # Test model\n",
    "    correct_prediction = tf.equal(tf.argmax(prediction, 1), tf.argmax(output_tensor, 1))\n",
    "    # Calculate accuracy\n",
    "    accuracy = tf.reduce_mean(tf.cast(correct_prediction, \"float\"))\n",
    "    print(\"Accuracy:\", accuracy.eval({input_tensor: batch_x_test, output_tensor: batch_y_test}))\n",
    "    print(\"Train Accuracy:\", accuracy.eval({input_tensor: batch_x_train, output_tensor: batch_y_train}))\n",
    "    \n",
    "    #metrics\n",
    "    y_p = tf.argmax(prediction, 1)\n",
    "    val_accuracy, y_pred = sess.run([accuracy, y_p], feed_dict={input_tensor:batch_x_test, output_tensor:batch_y_test})\n",
    "\n",
    "    y_true = np.argmax(batch_y_test,1)\n",
    "    print(\"Precision\", metrics.precision_score(y_true, y_pred, average='macro'))\n",
    "    print( \"Recall\", metrics.recall_score(y_true, y_pred, average='macro'))\n",
    "    print( \"f1_score\", metrics.f1_score(y_true, y_pred, average='macro'))\n",
    "\n"
   ]
  },
  {
   "cell_type": "code",
   "execution_count": null,
   "metadata": {},
   "outputs": [],
   "source": [
    "print(loss_data)\n",
    "print(acc_data)\n",
    "print(train_acc_data)"
   ]
  },
  {
   "cell_type": "code",
   "execution_count": 23,
   "metadata": {},
   "outputs": [
    {
     "data": {
      "image/png": "[encoded data removed]",
      "text/plain": [
       "<matplotlib.figure.Figure at 0x3f742e80>"
      ]
     },
     "metadata": {},
     "output_type": "display_data"
    }
   ],
   "source": [
    "import matplotlib.pyplot as plt  \n",
    "  \n",
    "x1 = range(1, training_epochs + 1)\n",
    "y1= loss_data\n",
    "  \n",
    "x2 = x1\n",
    "y2= acc_data\n",
    "\n",
    "fig, axes = plt.subplots(nrows=1, ncols=2, figsize=(10, 5))\n",
    "ax0, ax1= axes.flatten()\n",
    "ax0.plot(x1,y1)\n",
    "ax0.set_title('loss变化图')\n",
    "ax0.set_xlabel('迭代次数')\n",
    "ax0.set_ylabel('loss')\n",
    "ax1.plot(x2, y2)\n",
    "ax1.set_title('accuracy变化图')\n",
    "ax1.set_xlabel('迭代次数')\n",
    "ax1.set_ylabel('accuracy')\n",
    "plt.show()"
   ]
  },
  {
   "cell_type": "code",
   "execution_count": 169,
   "metadata": {},
   "outputs": [
    {
     "name": "stdout",
     "output_type": "stream",
     "text": [
      "['graphics', 'lines', 'subject', 'university', 'nntp-posting-host', 'organization', 'files', 'image']\n",
      "['baseball', 'team', 'game', 'players', 'writes', 'games', 'organization', 'subject']\n",
      "['gordon', 'banks', 'msg', 'article', 'science', 'writes', 'subject', 'organization']\n",
      "['god', 'jesus', 'people', 'church', 'christians', 'bible', 'christian', 'faith']\n",
      "['comp.graphics', 'rec.sport.baseball', 'sci.med', 'soc.religion.christian']\n"
     ]
    },
    {
     "data": {
      "image/png": "[encoded data removed]",
      "text/plain": [
       "<matplotlib.figure.Figure at 0x19ef27f0>"
      ]
     },
     "metadata": {},
     "output_type": "display_data"
    }
   ],
   "source": [
    "# 单次贡献率\n",
    "id2token = { v:k for k, v in custom_dictionary.token2id.items() }\n",
    "clf.feature_log_prob_[0]\n",
    "def getTopFeatures(features):\n",
    "    sorted_features = sorted(features, reverse=True)\n",
    "    return sorted_features[:8]\n",
    "\n",
    "top_1 = getTopFeatures(clf.feature_log_prob_[0])\n",
    "top_2 = getTopFeatures(clf.feature_log_prob_[1])\n",
    "top_3 = getTopFeatures(clf.feature_log_prob_[2])\n",
    "top_4 = getTopFeatures(clf.feature_log_prob_[3])\n",
    "\n",
    "def getTopWords(top_features, clf_features, id2token):\n",
    "    res = []\n",
    "    for v in top_features:\n",
    "        i = list(clf_features).index(v)\n",
    "        res.append(id2token[i])\n",
    "    return res\n",
    "    \n",
    "top_1_words = getTopWords(top_1, clf.feature_log_prob_[0], id2token)\n",
    "top_2_words = getTopWords(top_2, clf.feature_log_prob_[1], id2token) \n",
    "top_3_words = getTopWords(top_3, clf.feature_log_prob_[2], id2token) \n",
    "top_4_words = getTopWords(top_4, clf.feature_log_prob_[3], id2token)\n",
    "print(top_1_words)\n",
    "print(top_2_words)\n",
    "print(top_3_words)\n",
    "print(top_4_words)\n",
    "print(sub_test_news.target_names)\n",
    "fig, axes = plt.subplots(nrows=4, ncols=1, figsize=(16, 10))\n",
    "width = 0.4\n",
    "ind = np.linspace(2,10,8)\n",
    "\n",
    "ax0, ax1, ax2, ax3= axes.flatten()\n",
    "ax0.bar(ind-width/2, top_1)\n",
    "ax0.set_title(sub_test_news.target_names[0])\n",
    "ax0.set_xticks(ind)\n",
    "ax0.set_xticklabels(top_1_words)\n",
    "\n",
    "ax1.bar(ind-width/2, top_2)\n",
    "ax1.set_title(sub_test_news.target_names[1])\n",
    "ax1.set_xticks(ind)\n",
    "ax1.set_xticklabels(top_2_words)\n",
    "\n",
    "ax2.bar(ind-width/2, top_3)\n",
    "ax2.set_title(sub_test_news.target_names[2])\n",
    "ax2.set_xticks(ind)\n",
    "ax2.set_xticklabels(top_3_words)\n",
    "\n",
    "ax3.bar(ind-width/2, top_4)\n",
    "ax3.set_title(sub_test_news.target_names[3])\n",
    "ax3.set_xticks(ind)\n",
    "ax3.set_xticklabels(top_4_words)\n",
    "\n",
    "fig.tight_layout()\n",
    "plt.show()"
   ]
  }
 ],
 "metadata": {
  "kernelspec": {
   "display_name": "Python 3",
   "language": "python",
   "name": "python3"
  },
  "language_info": {
   "codemirror_mode": {
    "name": "ipython",
    "version": 3
   },
   "file_extension": ".py",
   "mimetype": "text/x-python",
   "name": "python",
   "nbconvert_exporter": "python",
   "pygments_lexer": "ipython3",
   "version": "3.6.3"
  }
 },
 "nbformat": 4,
 "nbformat_minor": 2
}
